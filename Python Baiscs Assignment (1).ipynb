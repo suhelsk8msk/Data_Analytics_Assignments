{
 "cells": [
  {
   "cell_type": "markdown",
   "id": "7b854ce2-a5b3-4ccd-b2ea-cb3c5298c5da",
   "metadata": {},
   "source": [
    "# Python Baiscs Assignment"
   ]
  },
  {
   "cell_type": "markdown",
   "id": "9b092805-a8a6-4a1f-ad3a-d6311e336d9c",
   "metadata": {},
   "source": [
    "# Q1- Explain the key feature of python that make it a popular choice for programming. "
   ]
  },
  {
   "cell_type": "raw",
   "id": "71e0d91e-9bd5-4fe2-a4f6-2be7fe6d5488",
   "metadata": {},
   "source": [
    "Ans-\n",
    "\n",
    "Python's popularity stems from several key features that make it an attractive choice for a wide range of programming tasks:\n",
    "\n",
    "1. Readability and Simplicity:\n",
    "   - Python's syntax is clear and easy to read, which makes it an excellent choice for beginners and also improves the productivity of experienced developers.\n",
    "   - The language emphasizes readability, using indentation to define code blocks, which reduces the need for additional syntax and makes the code visually appealing and easy to understand.\n",
    "\n",
    "2. Extensive Standard Library:\n",
    "   - Python comes with a comprehensive standard library that includes modules and packages for various tasks such as file I/O, system calls, web development, data manipulation, and more.\n",
    "   - This reduces the need to write code from scratch and speeds up the development process.\n",
    "\n",
    "3. Versatility and Flexibility:\n",
    "   - Python is a general-purpose language that can be used for web development, data analysis, artificial intelligence, scientific computing, automation, and more.\n",
    "   - It supports multiple programming paradigms, including procedural, object-oriented, and functional programming.\n",
    "\n",
    "4. Community and Ecosystem:\n",
    "   - Python has a large and active community that contributes to a rich ecosystem of third-party packages and libraries, such as NumPy, pandas, TensorFlow, Django, and Flask.\n",
    "   - The community provides extensive documentation, tutorials, and support, making it easier for developers to learn and troubleshoot issues.\n",
    "\n",
    "5. Integration and Extensibility:\n",
    "   - Python can easily integrate with other languages and technologies. For example, it can call C/C++ libraries, interact with Java via Jython, and run on the .NET framework using IronPython.\n",
    "   - This makes it a suitable choice for projects that require interoperability with other systems and languages.\n",
    "\n",
    "6. **Interpreted Language**:\n",
    "   - Python is an interpreted language, which means code can be executed directly without the need for compilation.\n",
    "   - This allows for a more interactive and iterative development process, where developers can quickly test and debug their code.\n",
    "\n",
    "7. Dynamic Typing:\n",
    "   - Python uses dynamic typing, which means that variable types are determined at runtime. This flexibility can speed up development and make the code more adaptable.\n",
    "   \n",
    "8. Strong Support for Data Science and Machine Learning:\n",
    "   - Python has become the go-to language for data science and machine learning due to libraries like pandas, scikit-learn, TensorFlow, and PyTorch.\n",
    "   - It provides powerful tools for data analysis, visualization, and machine learning model development.\n",
    "\n",
    "9. Cross-Platform Compatibility:\n",
    "   - Python is cross-platform and runs on various operating systems, including Windows, macOS, Linux, and more.\n",
    "   - This ensures that Python applications can be deployed across different environments without significant changes to the code.\n",
    "\n",
    "10. Rapid Development and Prototyping:\n",
    "    - Python's simplicity and extensive libraries make it an ideal choice for rapid development and prototyping.\n",
    "    - Developers can quickly build and iterate on their ideas, which is crucial in fast-paced development environments.\n"
   ]
  },
  {
   "cell_type": "markdown",
   "id": "0cfc5f53-dc89-4d39-9ff4-d6ddbe2e7f06",
   "metadata": {},
   "source": [
    "# Q2 - Describe the role of predefined keywords in python and provide examples of how they are used in a program."
   ]
  },
  {
   "cell_type": "raw",
   "id": "f575cb98-f39b-494f-a4e7-fa1b908220d5",
   "metadata": {},
   "source": [
    "Ans - \n",
    "\n",
    "Predefined keywords in Python are reserved words that have specific meanings and functions within the language. They form the basic building blocks for programming in Python, defining the structure and control flow of the code. Keywords cannot be used as identifiers (variable names, function names, etc.).\n",
    "\n",
    "Here are some examples of different Python keywords and their uses in programs:\n",
    "\n"
   ]
  },
  {
   "cell_type": "code",
   "execution_count": 1,
   "id": "392f6421-3903-4ebe-b1e9-ad8411c4efaf",
   "metadata": {},
   "outputs": [
    {
     "name": "stdout",
     "output_type": "stream",
     "text": [
      "x is positive\n"
     ]
    }
   ],
   "source": [
    "# 1 - if, elif, else\n",
    "\n",
    "x = 10\n",
    "if x > 0:\n",
    "    print(\"x is positive\")\n",
    "elif x == 0:\n",
    "    print(\"x is zero\")\n",
    "else:\n",
    "    print(\"x is negative\")\n"
   ]
  },
  {
   "cell_type": "code",
   "execution_count": 2,
   "id": "85c027ea-f5f9-4995-8047-f126b9869c82",
   "metadata": {},
   "outputs": [
    {
     "name": "stdout",
     "output_type": "stream",
     "text": [
      "0\n",
      "1\n",
      "2\n",
      "4\n",
      "0\n",
      "1\n",
      "2\n"
     ]
    }
   ],
   "source": [
    "# 2 - for, while, break, continue:\n",
    "\n",
    "# for loop\n",
    "for i in range(5):\n",
    "    if i == 3:\n",
    "        continue  # Skip the rest of the code inside the loop for the current iteration\n",
    "    print(i)\n",
    "\n",
    "# while loop\n",
    "i = 0\n",
    "while i < 5:\n",
    "    if i == 3:\n",
    "        break  # Exit the loop\n",
    "    print(i)\n",
    "    i += 1\n"
   ]
  },
  {
   "cell_type": "code",
   "execution_count": 12,
   "id": "b51594a2-164c-4250-94e0-5d5bba1fb03e",
   "metadata": {},
   "outputs": [
    {
     "name": "stdout",
     "output_type": "stream",
     "text": [
      "Hello, Alice!\n"
     ]
    }
   ],
   "source": [
    "# 3 - def, return:\n",
    "\n",
    "def greet(name):\n",
    "    return f\"Hello, {name}!\"\n",
    "\n",
    "print(greet(\"Alice\"))\n"
   ]
  },
  {
   "cell_type": "code",
   "execution_count": 11,
   "id": "ef37a5d3-553d-40ec-ac7c-7763cd2305d5",
   "metadata": {},
   "outputs": [
    {
     "name": "stdout",
     "output_type": "stream",
     "text": [
      "Hello, my name is Alice and I am 30 years old.\n"
     ]
    }
   ],
   "source": [
    "# 4 - class, self:\n",
    "\n",
    "class Person:\n",
    "    def __init__(self, name, age):\n",
    "        self.name = name\n",
    "        self.age = age\n",
    "\n",
    "    def greet(self):\n",
    "        return f\"Hello, my name is {self.name} and I am {self.age} years old.\"\n",
    "\n",
    "person = Person(\"Alice\", 30)\n",
    "print(person.greet())\n"
   ]
  },
  {
   "cell_type": "code",
   "execution_count": 13,
   "id": "648b153b-2ff4-4eb1-802a-471520f848cb",
   "metadata": {},
   "outputs": [
    {
     "name": "stdout",
     "output_type": "stream",
     "text": [
      "Cannot divide by zero!\n",
      "This block is always executed.\n"
     ]
    }
   ],
   "source": [
    "# 5 - try, except, finally:\n",
    "\n",
    "try:\n",
    "    result = 10 / 0\n",
    "except ZeroDivisionError:\n",
    "    print(\"Cannot divide by zero!\")\n",
    "finally:\n",
    "    print(\"This block is always executed.\")\n"
   ]
  },
  {
   "cell_type": "code",
   "execution_count": 14,
   "id": "f4f29a4d-a689-4690-99ce-0138f8d15508",
   "metadata": {},
   "outputs": [
    {
     "name": "stdout",
     "output_type": "stream",
     "text": [
      "4.0\n",
      "3.141592653589793\n"
     ]
    }
   ],
   "source": [
    "# import, from, as:\n",
    "\n",
    "import math\n",
    "print(math.sqrt(16))\n",
    "\n",
    "from math import pi as PI\n",
    "print(PI)\n"
   ]
  },
  {
   "cell_type": "code",
   "execution_count": null,
   "id": "484a507e-9165-4c28-89bf-9b9d7396990c",
   "metadata": {},
   "outputs": [],
   "source": []
  },
  {
   "cell_type": "code",
   "execution_count": null,
   "id": "3b531ddb-40d8-4c1d-80c0-a9ac858e5f12",
   "metadata": {},
   "outputs": [],
   "source": []
  },
  {
   "cell_type": "markdown",
   "id": "a3aa5587-9f2e-48a0-96bb-ea4c814a3ec0",
   "metadata": {},
   "source": [
    "# Q3 - Compare and contrast mutable and immutable objects in python with examples."
   ]
  },
  {
   "cell_type": "markdown",
   "id": "a6908d19-8ae5-4afc-9fbd-b1ad631553a2",
   "metadata": {},
   "source": [
    "## Mutable Objects"
   ]
  },
  {
   "cell_type": "raw",
   "id": "f9e5e14a-0c89-463f-9986-7fed12ddd84f",
   "metadata": {},
   "source": [
    "Mutable objects are those that can be changed after they are created. This means that the content or state of the object can be modified without changing the object itself (i.e., its reference in memory remains the same)."
   ]
  },
  {
   "cell_type": "markdown",
   "id": "c99551af-f6b4-4766-9493-9ff6bc104d3c",
   "metadata": {},
   "source": [
    "### Examples of Mutable Objects:"
   ]
  },
  {
   "cell_type": "code",
   "execution_count": 15,
   "id": "6ff84b7f-ce23-49e5-8336-e93b427ec388",
   "metadata": {},
   "outputs": [
    {
     "name": "stdout",
     "output_type": "stream",
     "text": [
      "[1, 2, 3, 4]\n",
      "{'a': 1, 'b': 2, 'c': 3}\n"
     ]
    }
   ],
   "source": [
    "# 1 - Lists :\n",
    "\n",
    "my_list = [1, 2, 3]\n",
    "my_list.append(4)  # Modifies the list in place\n",
    "print(my_list)     # Output: [1, 2, 3, 4]\n",
    "\n",
    "\n",
    "# 2 - Dictionaries : \n",
    "\n",
    "my_dict = {'a': 1, 'b': 2}\n",
    "my_dict['c'] = 3  # Modifies the dictionary in place\n",
    "print(my_dict)    # Output: {'a': 1, 'b': 2, 'c': 3}\n",
    "\n"
   ]
  },
  {
   "cell_type": "markdown",
   "id": "fad5237d-6780-481f-b586-bde4dcb4f7e4",
   "metadata": {},
   "source": []
  },
  {
   "cell_type": "markdown",
   "id": "5cab44a7-6a5b-4d80-865e-150677e87d37",
   "metadata": {},
   "source": [
    "## Immutable Objects"
   ]
  },
  {
   "cell_type": "raw",
   "id": "1eb86916-b462-4340-bba6-2773c3847805",
   "metadata": {},
   "source": [
    "Immutable objects, on the other hand, cannot be changed once they are created. Any operation that seems to modify the object will actually create a new object and leave the original object unchanged."
   ]
  },
  {
   "cell_type": "code",
   "execution_count": 16,
   "id": "5ce012f8-26a9-4a64-854e-07fc368acaf9",
   "metadata": {},
   "outputs": [
    {
     "name": "stdout",
     "output_type": "stream",
     "text": [
      "hello\n",
      "HELLO\n",
      "(1, 2, 3)\n",
      "(1, 2, 3, 4)\n",
      "10\n",
      "11\n"
     ]
    }
   ],
   "source": [
    "# Examples of Immutable Objects:\n",
    "\n",
    "# 1 - Strings: \n",
    "my_string = \"hello\"\n",
    "new_string = my_string.upper()  # Creates a new string\n",
    "print(my_string)  # Output: \"hello\"\n",
    "print(new_string) # Output: \"HELLO\"\n",
    "\n",
    "# 2 - Tuples:\n",
    "\n",
    "my_tuple = (1, 2, 3)\n",
    "new_tuple = my_tuple + (4,)  # Creates a new tuple\n",
    "print(my_tuple)  # Output: (1, 2, 3)\n",
    "print(new_tuple) # Output: (1, 2, 3, 4)\n",
    "\n",
    "\n",
    "# Integers:\n",
    "\n",
    "a = 10\n",
    "b = a + 1  # Creates a new integer\n",
    "print(a)  # Output: 10\n",
    "print(b)  # Output: 11\n"
   ]
  },
  {
   "cell_type": "markdown",
   "id": "c061092a-5718-4cf1-8fb8-86ee5ce9357c",
   "metadata": {},
   "source": [
    "## Modification:"
   ]
  },
  {
   "cell_type": "markdown",
   "id": "ae915c6d-52b9-47d9-ae15-8dca0a2632af",
   "metadata": {},
   "source": [
    "## Mutable Objects:\n",
    "    \n",
    "    Can be modified in place. Operations like adding, removing, or changing elements affect the original object."
   ]
  },
  {
   "cell_type": "code",
   "execution_count": 18,
   "id": "bf1cb3e2-f305-4b0a-a3c2-775a1e520171",
   "metadata": {},
   "outputs": [
    {
     "data": {
      "text/plain": [
       "[4, 2, 3]"
      ]
     },
     "execution_count": 18,
     "metadata": {},
     "output_type": "execute_result"
    }
   ],
   "source": [
    "my_list = [1, 2, 3]\n",
    "my_list[0] = 4  # my_list is now [4, 2, 3]\n",
    "my_list"
   ]
  },
  {
   "cell_type": "markdown",
   "id": "0cc16bd1-38e4-4c1a-9f00-3d6d8cc583cf",
   "metadata": {},
   "source": [
    "## Immutable Objects: \n",
    "    \n",
    "    Cannot be modified in place. Any operation that seems to modify the object actually creates a new object."
   ]
  },
  {
   "cell_type": "code",
   "execution_count": null,
   "id": "8e369619-8d48-460f-8b9b-371115511474",
   "metadata": {},
   "outputs": [],
   "source": [
    "my_string = \"hello\"\n",
    "my_string[0] = \"H\"  # This will raise an error"
   ]
  },
  {
   "cell_type": "code",
   "execution_count": null,
   "id": "fbe33fdc-f6f5-46e0-a4f6-835541cf025b",
   "metadata": {},
   "outputs": [],
   "source": []
  },
  {
   "cell_type": "markdown",
   "id": "4b8a2e9e-3eba-48c6-bf55-a880c10c1b37",
   "metadata": {},
   "source": [
    "## List (Mutable) vs. Tuple (Immutable):"
   ]
  },
  {
   "cell_type": "code",
   "execution_count": 23,
   "id": "fb29b963-8247-4d87-b5e6-e974f10eb503",
   "metadata": {},
   "outputs": [
    {
     "name": "stdout",
     "output_type": "stream",
     "text": [
      "[4, 2, 3]\n",
      "(4, 2, 3)\n"
     ]
    }
   ],
   "source": [
    "# List (Mutable)\n",
    "my_list = [1, 2, 3]\n",
    "my_list[0] = 4\n",
    "print(my_list)  # Output: [4, 2, 3]\n",
    "\n",
    "# Tuple (Immutable)\n",
    "my_tuple = (1, 2, 3)\n",
    "# my_tuple[0] = 4  # This will raise a TypeError\n",
    "new_tuple = (4,) + my_tuple[1:]\n",
    "print(new_tuple)  # Output: (4, 2, 3)\n"
   ]
  },
  {
   "cell_type": "markdown",
   "id": "46f90aa0-5069-4a06-96a1-61010c8dcc2e",
   "metadata": {},
   "source": [
    "## String (Immutable):"
   ]
  },
  {
   "cell_type": "raw",
   "id": "08d0ce84-27d1-4deb-85b0-3e2aed0e4c12",
   "metadata": {},
   "source": [
    "# String (Immutable)\n",
    "my_string = \"hello\"\n",
    "# my_string[0] = \"H\"  # This will raise a TypeError\n",
    "new_string = \"H\" + my_string[1:]\n",
    "print(new_string)  # Output: \"Hello\"\n"
   ]
  },
  {
   "cell_type": "code",
   "execution_count": null,
   "id": "16956d37-90ff-4005-8ec5-d750445481bb",
   "metadata": {},
   "outputs": [],
   "source": []
  },
  {
   "cell_type": "code",
   "execution_count": null,
   "id": "86b2a9b1-10cd-4dd9-8135-5f523e240eec",
   "metadata": {},
   "outputs": [],
   "source": []
  },
  {
   "cell_type": "markdown",
   "id": "a25ab768-cd40-4fa5-8d59-55d8bb8821d9",
   "metadata": {},
   "source": [
    "# Q4 Discuss the different types of operator in python and provide examples of how they are used."
   ]
  },
  {
   "cell_type": "raw",
   "id": "185bc3d1-f94c-44fe-a3e9-7d093f181a96",
   "metadata": {},
   "source": [
    "Ans - Python supports various types of operators that allow you to perform different operations on variables and values. Here are the main types of operators in Python, along with examples of how they are used:"
   ]
  },
  {
   "cell_type": "markdown",
   "id": "b01335f2-7f77-4111-8521-5929586a1305",
   "metadata": {},
   "source": [
    "## 1. Arithmetic Operators\n",
    "Arithmetic operators are used to perform mathematical operations.\n",
    "\n",
    "### Addition (+):"
   ]
  },
  {
   "cell_type": "code",
   "execution_count": 25,
   "id": "011ece0b-814b-4a34-b0f8-b884fac83cc7",
   "metadata": {},
   "outputs": [
    {
     "name": "stdout",
     "output_type": "stream",
     "text": [
      "8\n"
     ]
    }
   ],
   "source": [
    "a = 5\n",
    "b = 3\n",
    "print(a + b)  # Output: 8\n"
   ]
  },
  {
   "cell_type": "markdown",
   "id": "a6d01971-1699-4c38-bbb7-afe7278c46e5",
   "metadata": {},
   "source": [
    "### Subtraction (-):"
   ]
  },
  {
   "cell_type": "code",
   "execution_count": 26,
   "id": "6753e65a-2054-44e5-a635-acb235bac3b8",
   "metadata": {},
   "outputs": [
    {
     "name": "stdout",
     "output_type": "stream",
     "text": [
      "2\n"
     ]
    }
   ],
   "source": [
    "a = 5\n",
    "b = 3\n",
    "print(a - b)  # Output: 2\n"
   ]
  },
  {
   "cell_type": "markdown",
   "id": "b7ba2ef7-559b-40e5-849c-536bb145c084",
   "metadata": {},
   "source": [
    "### Multiplication (*):"
   ]
  },
  {
   "cell_type": "code",
   "execution_count": 27,
   "id": "6647f862-51fc-474b-bea5-51cd2b14c9a7",
   "metadata": {},
   "outputs": [
    {
     "name": "stdout",
     "output_type": "stream",
     "text": [
      "15\n"
     ]
    }
   ],
   "source": [
    "a = 5\n",
    "b = 3\n",
    "print(a * b)  # Output: 15\n"
   ]
  },
  {
   "cell_type": "markdown",
   "id": "e16e96b6-fd9e-4633-8617-20071c5c9014",
   "metadata": {},
   "source": [
    "### Division (/):"
   ]
  },
  {
   "cell_type": "code",
   "execution_count": 28,
   "id": "60959056-1da6-4c8d-bba2-bee8580602c0",
   "metadata": {},
   "outputs": [
    {
     "name": "stdout",
     "output_type": "stream",
     "text": [
      "1.6666666666666667\n"
     ]
    }
   ],
   "source": [
    "a = 5\n",
    "b = 3\n",
    "print(a / b)  # Output: 1.6666666666666667\n"
   ]
  },
  {
   "cell_type": "markdown",
   "id": "8580daf3-5407-42f0-9790-f130892368fa",
   "metadata": {},
   "source": [
    "### Floor Division (//):"
   ]
  },
  {
   "cell_type": "code",
   "execution_count": 29,
   "id": "9ddc2878-524e-4115-afd1-4bee57ad102b",
   "metadata": {},
   "outputs": [
    {
     "name": "stdout",
     "output_type": "stream",
     "text": [
      "1\n"
     ]
    }
   ],
   "source": [
    "a = 5\n",
    "b = 3\n",
    "print(a // b)  # Output: 1\n"
   ]
  },
  {
   "cell_type": "markdown",
   "id": "fa932c89-2aac-415d-aabe-db3c9a49ec4d",
   "metadata": {},
   "source": [
    "### Modulus (%):"
   ]
  },
  {
   "cell_type": "code",
   "execution_count": 31,
   "id": "823438f6-ec71-41cb-8b05-3dd82a754b51",
   "metadata": {},
   "outputs": [
    {
     "name": "stdout",
     "output_type": "stream",
     "text": [
      "2\n"
     ]
    }
   ],
   "source": [
    "a = 5\n",
    "b = 3\n",
    "print(a % b)  # Output: 2\n"
   ]
  },
  {
   "cell_type": "markdown",
   "id": "ee1dafb0-f615-4429-9ffd-9977f772ea47",
   "metadata": {},
   "source": [
    "### Exponentiation (**):"
   ]
  },
  {
   "cell_type": "code",
   "execution_count": 32,
   "id": "037ca3f2-36b7-4796-8357-9cd86f45d785",
   "metadata": {},
   "outputs": [
    {
     "name": "stdout",
     "output_type": "stream",
     "text": [
      "125\n"
     ]
    }
   ],
   "source": [
    "a = 5\n",
    "b = 3\n",
    "print(a ** b)  # Output: 125\n"
   ]
  },
  {
   "cell_type": "markdown",
   "id": "9a439286-6af8-4f40-9c2a-da99b0a4d04b",
   "metadata": {},
   "source": [
    "## 2. Comparison Operators"
   ]
  },
  {
   "cell_type": "markdown",
   "id": "10d3387e-21db-4e74-8ee9-0b8f487a44bc",
   "metadata": {},
   "source": [
    "### Equal (==):"
   ]
  },
  {
   "cell_type": "code",
   "execution_count": 33,
   "id": "b4a5456c-bfdf-4bdc-bfd8-1bbf33fd0fd0",
   "metadata": {},
   "outputs": [
    {
     "name": "stdout",
     "output_type": "stream",
     "text": [
      "False\n"
     ]
    }
   ],
   "source": [
    "a = 5\n",
    "b = 3\n",
    "print(a == b)  # Output: False\n"
   ]
  },
  {
   "cell_type": "markdown",
   "id": "ff4eb92a-a9da-4820-983a-576abfe58cc6",
   "metadata": {},
   "source": [
    "### Not Equal (!=):"
   ]
  },
  {
   "cell_type": "code",
   "execution_count": 34,
   "id": "ad6020bd-6270-4a17-854e-8d1ff6d2bbdd",
   "metadata": {},
   "outputs": [
    {
     "name": "stdout",
     "output_type": "stream",
     "text": [
      "True\n"
     ]
    }
   ],
   "source": [
    "a = 5\n",
    "b = 3\n",
    "print(a != b)  # Output: True\n"
   ]
  },
  {
   "cell_type": "markdown",
   "id": "e6adfd03-1304-4b77-92c1-314b58c54b6b",
   "metadata": {},
   "source": [
    "### Greater Than (>):"
   ]
  },
  {
   "cell_type": "code",
   "execution_count": 35,
   "id": "ceb59165-dc77-43f7-ba37-c2da36348101",
   "metadata": {},
   "outputs": [
    {
     "name": "stdout",
     "output_type": "stream",
     "text": [
      "True\n"
     ]
    }
   ],
   "source": [
    "a = 5\n",
    "b = 3\n",
    "print(a > b)  # Output: True\n"
   ]
  },
  {
   "cell_type": "markdown",
   "id": "6cba3f63-9dae-4c1f-911a-f795b097b4e7",
   "metadata": {},
   "source": [
    "### Less Than (<):"
   ]
  },
  {
   "cell_type": "code",
   "execution_count": 36,
   "id": "20e9adc3-7121-4560-a897-976b5b6e9f9a",
   "metadata": {},
   "outputs": [
    {
     "name": "stdout",
     "output_type": "stream",
     "text": [
      "False\n"
     ]
    }
   ],
   "source": [
    "a = 5\n",
    "b = 3\n",
    "print(a < b)  # Output: False\n"
   ]
  },
  {
   "cell_type": "markdown",
   "id": "d709785f-1ca0-4e99-902b-8016c5d8b487",
   "metadata": {},
   "source": [
    "### Greater Than or Equal To (>=):"
   ]
  },
  {
   "cell_type": "code",
   "execution_count": 37,
   "id": "0f54f195-5c0e-4f65-8040-bf625d4e357c",
   "metadata": {},
   "outputs": [
    {
     "name": "stdout",
     "output_type": "stream",
     "text": [
      "True\n"
     ]
    }
   ],
   "source": [
    "a = 5\n",
    "b = 3\n",
    "print(a >= b)  # Output: True\n"
   ]
  },
  {
   "cell_type": "markdown",
   "id": "1f71e76f-bdfe-401a-96a7-b26f0158acea",
   "metadata": {},
   "source": [
    "### Less Than or Equal To (<=):"
   ]
  },
  {
   "cell_type": "code",
   "execution_count": 38,
   "id": "7a26cfdd-f3e9-4d4c-ac66-322a3b3681ca",
   "metadata": {},
   "outputs": [
    {
     "name": "stdout",
     "output_type": "stream",
     "text": [
      "False\n"
     ]
    }
   ],
   "source": [
    "a = 5\n",
    "b = 3\n",
    "print(a <= b)  # Output: False\n"
   ]
  },
  {
   "cell_type": "markdown",
   "id": "df2097d5-65e1-419a-bfde-676b2f85b75b",
   "metadata": {},
   "source": [
    "## 3. Logical Operators"
   ]
  },
  {
   "cell_type": "markdown",
   "id": "e9a60b8b-ba6a-466c-bb74-414af25d9474",
   "metadata": {},
   "source": [
    "### And (and):"
   ]
  },
  {
   "cell_type": "code",
   "execution_count": 39,
   "id": "27492d32-1a50-4939-b7e0-fc6608573345",
   "metadata": {},
   "outputs": [
    {
     "name": "stdout",
     "output_type": "stream",
     "text": [
      "False\n"
     ]
    }
   ],
   "source": [
    "a = True\n",
    "b = False\n",
    "print(a and b)  # Output: False\n"
   ]
  },
  {
   "cell_type": "markdown",
   "id": "0fd3e810-929f-4ac8-88bb-df0640c778ab",
   "metadata": {},
   "source": [
    "### Or (or):"
   ]
  },
  {
   "cell_type": "code",
   "execution_count": 40,
   "id": "327b3d70-44b1-4532-aff1-9c4cb464fd83",
   "metadata": {},
   "outputs": [
    {
     "name": "stdout",
     "output_type": "stream",
     "text": [
      "True\n"
     ]
    }
   ],
   "source": [
    "a = True\n",
    "b = False\n",
    "print(a or b)  # Output: True\n"
   ]
  },
  {
   "cell_type": "markdown",
   "id": "b4f91f60-63e0-4104-aed3-f0810bca40bd",
   "metadata": {},
   "source": [
    "### Not (not):"
   ]
  },
  {
   "cell_type": "code",
   "execution_count": 41,
   "id": "23dc0368-c5b9-4137-b343-5e278b2c5dca",
   "metadata": {},
   "outputs": [
    {
     "name": "stdout",
     "output_type": "stream",
     "text": [
      "False\n"
     ]
    }
   ],
   "source": [
    "a = True\n",
    "print(not a)  # Output: False\n"
   ]
  },
  {
   "cell_type": "markdown",
   "id": "70350eaa-57a6-4f01-92b1-9f6af13dc2f3",
   "metadata": {},
   "source": [
    "## 4. Assignment Operators"
   ]
  },
  {
   "cell_type": "markdown",
   "id": "af20a7a8-ed9b-4ffe-b47d-60dd9493ed0a",
   "metadata": {},
   "source": [
    "### Assign (=):"
   ]
  },
  {
   "cell_type": "code",
   "execution_count": 42,
   "id": "2b3e6211-435b-4244-a348-15771bb1f6b0",
   "metadata": {},
   "outputs": [
    {
     "data": {
      "text/plain": [
       "5"
      ]
     },
     "execution_count": 42,
     "metadata": {},
     "output_type": "execute_result"
    }
   ],
   "source": [
    "a = 5\n",
    "a"
   ]
  },
  {
   "cell_type": "markdown",
   "id": "969db480-1423-4491-b762-655e37739430",
   "metadata": {},
   "source": [
    "## 5. Bitwise Operators"
   ]
  },
  {
   "cell_type": "markdown",
   "id": "a0a81fd7-30a8-4d49-989b-7a4d05aa4be9",
   "metadata": {},
   "source": [
    "### And (&):"
   ]
  },
  {
   "cell_type": "code",
   "execution_count": 43,
   "id": "a2fffecb-9bed-4cfd-9b9a-17fbcefde6e0",
   "metadata": {},
   "outputs": [
    {
     "name": "stdout",
     "output_type": "stream",
     "text": [
      "1\n"
     ]
    }
   ],
   "source": [
    "a = 5  # Binary: 101\n",
    "b = 3  # Binary: 011\n",
    "print(a & b)  # Output: 1 (Binary: 001)\n"
   ]
  },
  {
   "cell_type": "markdown",
   "id": "bd9f399e-702f-4c6f-ba89-fcd46cbffe06",
   "metadata": {},
   "source": [
    "### Or (|): "
   ]
  },
  {
   "cell_type": "code",
   "execution_count": 44,
   "id": "0ed048dd-b960-4578-b649-65457ac4e358",
   "metadata": {},
   "outputs": [
    {
     "name": "stdout",
     "output_type": "stream",
     "text": [
      "7\n"
     ]
    }
   ],
   "source": [
    "a = 5  # Binary: 101\n",
    "b = 3  # Binary: 011\n",
    "print(a | b)  # Output: 7 (Binary: 111)\n"
   ]
  },
  {
   "cell_type": "markdown",
   "id": "041820a2-1f46-4e20-8b2e-a7c7972e62bc",
   "metadata": {},
   "source": [
    "### Not (~):"
   ]
  },
  {
   "cell_type": "code",
   "execution_count": 45,
   "id": "dac22b08-2019-49c2-afb9-8f9d9872713e",
   "metadata": {},
   "outputs": [
    {
     "name": "stdout",
     "output_type": "stream",
     "text": [
      "-6\n"
     ]
    }
   ],
   "source": [
    "a = 5  # Binary: 101\n",
    "print(~a)  # Output: -6 (Binary: ...11111010, in two's complement)\n"
   ]
  },
  {
   "cell_type": "code",
   "execution_count": null,
   "id": "97bf5ab7-6755-479c-a7d3-67b0a92b283a",
   "metadata": {},
   "outputs": [],
   "source": []
  },
  {
   "cell_type": "code",
   "execution_count": null,
   "id": "0ab5d102-5148-4bc1-b2c0-e3568165e12a",
   "metadata": {},
   "outputs": [],
   "source": []
  },
  {
   "cell_type": "markdown",
   "id": "2b81d517-74a8-422c-a916-f132987f7f9a",
   "metadata": {},
   "source": [
    "# Q5  Explain the concept of type casting in Python with examples."
   ]
  },
  {
   "cell_type": "markdown",
   "id": "1cfc8f30-052a-414d-83b4-f284898a319a",
   "metadata": {},
   "source": [
    "Ans - \n",
    "\n",
    "\n",
    "Type casting in Python is the process of converting one data type to another. This can be necessary when you need to perform operations that require a specific data type or when you need to format data for output or further processing. Python supports several built-in functions for type casting.\n",
    "\n",
    "## Types of Type Casting\n",
    "\n",
    "### Implicit Type Casting: \n",
    "Python automatically converts one data type to another without explicit instruction from the programmer.\n",
    "\n",
    "### Explicit Type Casting: \n",
    "The programmer manually converts one data type to another using built-in functions.\n",
    "\n",
    "## Implicit Type Casting\n",
    "Python automatically converts smaller data types to larger data types when necessary. This is also known as type coercion.\n",
    "\n",
    "#### Example:\n",
    "\n"
   ]
  },
  {
   "cell_type": "code",
   "execution_count": 46,
   "id": "bb7e4721-1186-4a4d-b9a4-a620a3bc625d",
   "metadata": {},
   "outputs": [
    {
     "name": "stdout",
     "output_type": "stream",
     "text": [
      "7.0\n",
      "<class 'float'>\n"
     ]
    }
   ],
   "source": [
    "a = 5        # Integer\n",
    "b = 2.0      # Float\n",
    "c = a + b    # Implicitly converts 'a' to float and then adds\n",
    "\n",
    "print(c)     # Output: 7.0 (float)\n",
    "print(type(c))  # Output: <class 'float'>\n"
   ]
  },
  {
   "cell_type": "markdown",
   "id": "98e91b07-8ab0-42d0-820a-d97b52db10a6",
   "metadata": {},
   "source": [
    "## Explicit Type Casting\n",
    "Explicit type casting is done using Python's built-in functions. Here are some common type casting functions:\n",
    "\n",
    "int(): Converts to an integer.\n",
    "float(): Converts to a float.\n",
    "str(): Converts to a string.\n",
    "list(): Converts to a list.\n",
    "tuple(): Converts to a tuple.\n",
    "set(): Converts to a set.\n",
    "dict(): Converts to a dictionary.\n",
    "\n",
    "#### Examples:\n",
    "\n",
    "### Integer to String:"
   ]
  },
  {
   "cell_type": "code",
   "execution_count": 47,
   "id": "8332ede3-2f01-40b1-b25b-2421874e3b7e",
   "metadata": {},
   "outputs": [
    {
     "name": "stdout",
     "output_type": "stream",
     "text": [
      "5\n",
      "<class 'str'>\n"
     ]
    }
   ],
   "source": [
    "a = 5\n",
    "b = str(a)\n",
    "print(b)        # Output: '5'\n",
    "print(type(b))  # Output: <class 'str'>\n"
   ]
  },
  {
   "cell_type": "markdown",
   "id": "9f9af0b3-d4c6-4daf-8aa6-78995e191b19",
   "metadata": {},
   "source": [
    "### String to Integer:"
   ]
  },
  {
   "cell_type": "code",
   "execution_count": 48,
   "id": "a8bdc73a-ad6c-43a8-be61-e44e6b99f749",
   "metadata": {},
   "outputs": [
    {
     "name": "stdout",
     "output_type": "stream",
     "text": [
      "123\n",
      "<class 'int'>\n"
     ]
    }
   ],
   "source": [
    "a = \"123\"\n",
    "b = int(a)\n",
    "print(b)        # Output: 123\n",
    "print(type(b))  # Output: <class 'int'>\n"
   ]
  },
  {
   "cell_type": "markdown",
   "id": "0704229c-7344-4a5b-99e2-97bc3d0bde49",
   "metadata": {},
   "source": [
    "### String to Float:"
   ]
  },
  {
   "cell_type": "code",
   "execution_count": 49,
   "id": "db87923c-ae52-435b-a413-ef92ed4c0426",
   "metadata": {},
   "outputs": [
    {
     "name": "stdout",
     "output_type": "stream",
     "text": [
      "123.45\n",
      "<class 'float'>\n"
     ]
    }
   ],
   "source": [
    "a = \"123.45\"\n",
    "b = float(a)\n",
    "print(b)        # Output: 123.45\n",
    "print(type(b))  # Output: <class 'float'>\n"
   ]
  },
  {
   "cell_type": "markdown",
   "id": "577c44ca-53d6-4bbc-85d2-7f2a403bd596",
   "metadata": {},
   "source": [
    "### Float to Integer:"
   ]
  },
  {
   "cell_type": "code",
   "execution_count": 50,
   "id": "6e4726ff-6821-48ac-934c-8e859a847ec3",
   "metadata": {},
   "outputs": [
    {
     "name": "stdout",
     "output_type": "stream",
     "text": [
      "123\n",
      "<class 'int'>\n"
     ]
    }
   ],
   "source": [
    "a = 123.45\n",
    "b = int(a)\n",
    "print(b)        # Output: 123\n",
    "print(type(b))  # Output: <class 'int'>\n"
   ]
  },
  {
   "cell_type": "markdown",
   "id": "6e037122-9fb4-4fe3-b99a-52bb15fe2b4b",
   "metadata": {},
   "source": [
    "### List to Tuple:"
   ]
  },
  {
   "cell_type": "code",
   "execution_count": 51,
   "id": "a0daa16b-1d53-463d-81e0-107563801065",
   "metadata": {},
   "outputs": [
    {
     "name": "stdout",
     "output_type": "stream",
     "text": [
      "(1, 2, 3)\n",
      "<class 'tuple'>\n"
     ]
    }
   ],
   "source": [
    "a = [1, 2, 3]\n",
    "b = tuple(a)\n",
    "print(b)        # Output: (1, 2, 3)\n",
    "print(type(b))  # Output: <class 'tuple'>\n"
   ]
  },
  {
   "cell_type": "markdown",
   "id": "d5e89ccf-2cf6-4bda-b447-069c6ae639e1",
   "metadata": {},
   "source": [
    "### Tuple to List:"
   ]
  },
  {
   "cell_type": "code",
   "execution_count": 52,
   "id": "4fea92d6-531f-42aa-9108-73aeeb03d635",
   "metadata": {},
   "outputs": [
    {
     "name": "stdout",
     "output_type": "stream",
     "text": [
      "[1, 2, 3]\n",
      "<class 'list'>\n"
     ]
    }
   ],
   "source": [
    "a = (1, 2, 3)\n",
    "b = list(a)\n",
    "print(b)        # Output: [1, 2, 3]\n",
    "print(type(b))  # Output: <class 'list'>\n"
   ]
  },
  {
   "cell_type": "markdown",
   "id": "43cf60d7-01d0-450b-9f29-0f763d875f71",
   "metadata": {},
   "source": [
    "### List to Set:"
   ]
  },
  {
   "cell_type": "code",
   "execution_count": 53,
   "id": "279161fe-5997-44ea-9486-bbfef167d9fd",
   "metadata": {},
   "outputs": [
    {
     "name": "stdout",
     "output_type": "stream",
     "text": [
      "{1, 2, 3}\n",
      "<class 'set'>\n"
     ]
    }
   ],
   "source": [
    "a = [1, 2, 2, 3]\n",
    "b = set(a)\n",
    "print(b)        # Output: {1, 2, 3}\n",
    "print(type(b))  # Output: <class 'set'>\n"
   ]
  },
  {
   "cell_type": "markdown",
   "id": "67a729a6-31e6-44fd-964f-45989da85d36",
   "metadata": {},
   "source": [
    "### Set to List:"
   ]
  },
  {
   "cell_type": "code",
   "execution_count": 54,
   "id": "8cd56d09-051d-4e2d-87e6-28bc3e0530fc",
   "metadata": {},
   "outputs": [
    {
     "name": "stdout",
     "output_type": "stream",
     "text": [
      "[1, 2, 3]\n",
      "<class 'list'>\n"
     ]
    }
   ],
   "source": [
    "a = {1, 2, 3}\n",
    "b = list(a)\n",
    "print(b)        # Output: [1, 2, 3]\n",
    "print(type(b))  # Output: <class 'list'>\n"
   ]
  },
  {
   "cell_type": "code",
   "execution_count": null,
   "id": "29df4f70-74b2-4adb-ada4-8dee111b620e",
   "metadata": {},
   "outputs": [],
   "source": []
  },
  {
   "cell_type": "code",
   "execution_count": null,
   "id": "08ac91fd-ce9b-4bbb-88cd-094041cef6b2",
   "metadata": {},
   "outputs": [],
   "source": []
  },
  {
   "cell_type": "markdown",
   "id": "06f63c36-68e9-4dc6-8b1b-cb78a6effcfd",
   "metadata": {},
   "source": [
    "# Q6 - How do conditional statements work in python? Illustrate with examples."
   ]
  },
  {
   "cell_type": "markdown",
   "id": "3f832a72-67d9-4c38-a2fa-05ecfcd2b3df",
   "metadata": {},
   "source": [
    "Ans -\n",
    "\n",
    "Conditional statements in Python allow you to execute certain blocks of code based on specific conditions. The primary conditional statements in Python are if, elif, and else. These statements help in controlling the flow of the program by executing different code blocks depending on the condition being evaluated.\n",
    "\n",
    "# Basic Structure\n",
    "\n",
    "### if Statement: \n",
    "Used to test a specific condition. If the condition is True, the block of code inside the if statement is executed.\n",
    "\n",
    "### elif Statement: \n",
    "Short for \"else if,\" it allows you to check multiple expressions for True and execute a block of code as soon as one of the conditions is True.\n",
    "\n",
    "### else Statement: \n",
    "The else block is executed if all the preceding conditions are False.\n",
    "\n",
    "#### Syntax"
   ]
  },
  {
   "cell_type": "code",
   "execution_count": null,
   "id": "179cd698-8d46-430b-970c-ea1766e98c8a",
   "metadata": {},
   "outputs": [],
   "source": [
    "if condition1:\n",
    "    # block of code to be executed if condition1 is True\n",
    "elif condition2:\n",
    "    # block of code to be executed if condition2 is True\n",
    "else:\n",
    "    # block of code to be executed if all conditions are False\n"
   ]
  },
  {
   "cell_type": "markdown",
   "id": "15ee88e5-70ad-4ab7-96f6-d65a99f2c47d",
   "metadata": {},
   "source": [
    "### Examples\n",
    "    #### Simple if Statement"
   ]
  },
  {
   "cell_type": "code",
   "execution_count": 57,
   "id": "4dc8e0a4-1404-4632-9126-7cc5f5176666",
   "metadata": {},
   "outputs": [
    {
     "name": "stdout",
     "output_type": "stream",
     "text": [
      "x is greater than 5\n"
     ]
    }
   ],
   "source": [
    "x = 10\n",
    "\n",
    "if x > 5:\n",
    "    print(\"x is greater than 5\")\n"
   ]
  },
  {
   "cell_type": "markdown",
   "id": "c16a7b58-b79f-4b6e-aa1d-9bf540c00663",
   "metadata": {},
   "source": [
    "### if...else Statement"
   ]
  },
  {
   "cell_type": "code",
   "execution_count": 58,
   "id": "1b7bb0ed-4786-46d2-b1b9-682ee4141003",
   "metadata": {},
   "outputs": [
    {
     "name": "stdout",
     "output_type": "stream",
     "text": [
      "x is not greater than 5\n"
     ]
    }
   ],
   "source": [
    "x = 3\n",
    "\n",
    "if x > 5:\n",
    "    print(\"x is greater than 5\")\n",
    "else:\n",
    "    print(\"x is not greater than 5\")\n"
   ]
  },
  {
   "cell_type": "markdown",
   "id": "8621a9e5-09c3-4791-8dc9-2718227844b7",
   "metadata": {},
   "source": [
    "### if...elif...else Statement"
   ]
  },
  {
   "cell_type": "code",
   "execution_count": 59,
   "id": "2db28879-b98f-41e3-afb5-ad8cde87a59d",
   "metadata": {},
   "outputs": [
    {
     "name": "stdout",
     "output_type": "stream",
     "text": [
      "x is greater than 5 but less than or equal to 10\n"
     ]
    }
   ],
   "source": [
    "x = 7\n",
    "\n",
    "if x > 10:\n",
    "    print(\"x is greater than 10\")\n",
    "elif x > 5:\n",
    "    print(\"x is greater than 5 but less than or equal to 10\")\n",
    "else:\n",
    "    print(\"x is 5 or less\")\n"
   ]
  },
  {
   "cell_type": "markdown",
   "id": "aeb83ff2-ec31-4b52-bef2-8df3aa826bfb",
   "metadata": {},
   "source": [
    "### Nested Conditional Statements "
   ]
  },
  {
   "cell_type": "code",
   "execution_count": 60,
   "id": "d49539cf-e3a8-461c-afcb-fd4e0f9ee007",
   "metadata": {},
   "outputs": [
    {
     "name": "stdout",
     "output_type": "stream",
     "text": [
      "x is greater than 10 and y is greater than 15\n"
     ]
    }
   ],
   "source": [
    "x = 15\n",
    "y = 20\n",
    "\n",
    "if x > 10:\n",
    "    if y > 15:\n",
    "        print(\"x is greater than 10 and y is greater than 15\")\n",
    "    else:\n",
    "        print(\"x is greater than 10 but y is not greater than 15\")\n",
    "else:\n",
    "    print(\"x is not greater than 10\")\n"
   ]
  },
  {
   "cell_type": "code",
   "execution_count": null,
   "id": "ff2e8d67-0fa7-4792-ada7-4e92883a5f9c",
   "metadata": {},
   "outputs": [],
   "source": []
  },
  {
   "cell_type": "code",
   "execution_count": null,
   "id": "c8097fa7-1a8a-4bc1-865f-42f8cf164b50",
   "metadata": {},
   "outputs": [],
   "source": []
  },
  {
   "cell_type": "markdown",
   "id": "9864900b-9cba-48a4-990c-06c9ad8e8829",
   "metadata": {},
   "source": [
    "# Q7 - Describe the different types of loops in python and their use cases with Examples."
   ]
  },
  {
   "cell_type": "markdown",
   "id": "91d91017-91f3-4c1a-ae51-8ef47dd4af27",
   "metadata": {},
   "source": [
    "\n",
    "Python supports two primary types of loops: for loops and while loops. Each type of loop has its own use cases and advantages. Here’s a detailed explanation of both, along with examples.\n",
    "\n",
    "## 1. for Loop\n",
    "A for loop is used to iterate over a sequence (such as a list, tuple, dictionary, set, or string) or other iterable objects. It is commonly used when you know the number of iterations ahead of time.\n",
    "\n",
    "### Syntax:"
   ]
  },
  {
   "cell_type": "code",
   "execution_count": null,
   "id": "a9a9aaa5-411e-49f4-8ea3-ad1814468b1b",
   "metadata": {},
   "outputs": [],
   "source": [
    "for variable in sequence:\n",
    "    # code block to be executed\n"
   ]
  },
  {
   "cell_type": "markdown",
   "id": "c9db077c-4c9b-4a29-8b8c-c9601ca02896",
   "metadata": {},
   "source": [
    "#### Examples:\n",
    "\n",
    "  ### Iterating over a list:"
   ]
  },
  {
   "cell_type": "code",
   "execution_count": 61,
   "id": "f0b33bbd-2cd2-484f-ac92-f42e203800a7",
   "metadata": {},
   "outputs": [
    {
     "name": "stdout",
     "output_type": "stream",
     "text": [
      "apple\n",
      "banana\n",
      "cherry\n"
     ]
    }
   ],
   "source": [
    "fruits = [\"apple\", \"banana\", \"cherry\"]\n",
    "for fruit in fruits:\n",
    "    print(fruit)\n"
   ]
  },
  {
   "cell_type": "markdown",
   "id": "1b635617-ef21-4a8d-ad79-754591db1a1f",
   "metadata": {},
   "source": [
    "### Iterating over a string"
   ]
  },
  {
   "cell_type": "code",
   "execution_count": 62,
   "id": "ef9c1464-10fa-4e37-8f73-e84ccb98fadf",
   "metadata": {},
   "outputs": [
    {
     "name": "stdout",
     "output_type": "stream",
     "text": [
      "h\n",
      "e\n",
      "l\n",
      "l\n",
      "o\n"
     ]
    }
   ],
   "source": [
    "for char in \"hello\":\n",
    "    print(char)\n"
   ]
  },
  {
   "cell_type": "markdown",
   "id": "192e6ac3-5a90-4f43-84a5-76de902ade0c",
   "metadata": {},
   "source": [
    "### Using range() function:"
   ]
  },
  {
   "cell_type": "code",
   "execution_count": 63,
   "id": "18deca6a-2698-40ab-83c0-40368e0bc0cf",
   "metadata": {},
   "outputs": [
    {
     "name": "stdout",
     "output_type": "stream",
     "text": [
      "0\n",
      "1\n",
      "2\n",
      "3\n",
      "4\n"
     ]
    }
   ],
   "source": [
    "for i in range(5):\n",
    "    print(i)\n"
   ]
  },
  {
   "cell_type": "markdown",
   "id": "261856e7-f8dc-4aba-8df8-6477f04cdf75",
   "metadata": {},
   "source": [
    "## Use Cases for for Loop\n",
    "\n",
    "Iterating through elements of a list or tuple.\n",
    "Processing characters in a string.\n",
    "Executing a block of code a fixed number of times using range().\n",
    "Iterating through keys and values of a dictionary.\n",
    "\n",
    "## 2. while Loop\n",
    "A while loop is used to repeat a block of code as long as a condition is True. It is commonly used when the number of iterations is not known beforehand and depends on some runtime condition.\n",
    "\n",
    "### Syntax:"
   ]
  },
  {
   "cell_type": "code",
   "execution_count": null,
   "id": "6c2680d3-d054-4003-bac7-8af4261912eb",
   "metadata": {},
   "outputs": [],
   "source": [
    "while condition:\n",
    "    # code block to be executed\n"
   ]
  },
  {
   "cell_type": "markdown",
   "id": "aed12d77-f3a6-48c2-a314-0bf34f26d31a",
   "metadata": {},
   "source": [
    "### Basic while loop:"
   ]
  },
  {
   "cell_type": "code",
   "execution_count": 64,
   "id": "b2fd332c-7f51-480c-aed4-ad8f76268a8a",
   "metadata": {},
   "outputs": [
    {
     "name": "stdout",
     "output_type": "stream",
     "text": [
      "1\n",
      "2\n",
      "3\n",
      "4\n",
      "5\n"
     ]
    }
   ],
   "source": [
    "i = 1\n",
    "while i <= 5:\n",
    "    print(i)\n",
    "    i += 1\n"
   ]
  },
  {
   "cell_type": "markdown",
   "id": "6b2a8903-04c8-4589-8327-38e3000db44f",
   "metadata": {},
   "source": [
    "# Loop Control Statements\n",
    "\n",
    "Python also provides loop control statements to modify the behavior of loops:\n",
    "\n",
    "## break Statement:\n",
    "\n",
    "Terminates the loop prematurely."
   ]
  },
  {
   "cell_type": "code",
   "execution_count": 65,
   "id": "cf9e765d-d98b-4c09-8795-c0b7d7bb5814",
   "metadata": {},
   "outputs": [
    {
     "name": "stdout",
     "output_type": "stream",
     "text": [
      "0\n",
      "1\n",
      "2\n",
      "3\n",
      "4\n"
     ]
    }
   ],
   "source": [
    "for i in range(10):\n",
    "    if i == 5:\n",
    "        break\n",
    "    print(i)\n"
   ]
  },
  {
   "cell_type": "code",
   "execution_count": null,
   "id": "c87fbde1-f770-456c-a2e1-cfe33bf75f13",
   "metadata": {},
   "outputs": [],
   "source": []
  }
 ],
 "metadata": {
  "kernelspec": {
   "display_name": "Python 3 (ipykernel)",
   "language": "python",
   "name": "python3"
  },
  "language_info": {
   "codemirror_mode": {
    "name": "ipython",
    "version": 3
   },
   "file_extension": ".py",
   "mimetype": "text/x-python",
   "name": "python",
   "nbconvert_exporter": "python",
   "pygments_lexer": "ipython3",
   "version": "3.10.8"
  }
 },
 "nbformat": 4,
 "nbformat_minor": 5
}
